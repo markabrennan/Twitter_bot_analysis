{
 "cells": [
  {
   "cell_type": "code",
   "execution_count": 60,
   "metadata": {},
   "outputs": [],
   "source": [
    "import pandas as pd\n",
    "import numpy as np\n",
    "import twint\n",
    "import nest_asyncio\n",
    "nest_asyncio.apply()\n",
    "from nltk.corpus import stopwords\n",
    "from nltk import word_tokenize\n",
    "from  nltk import FreqDist\n",
    "from nltk.stem.wordnet import WordNetLemmatizer\n",
    "from nltk.stem import PorterStemmer\n",
    "import string\n"
   ]
  },
  {
   "cell_type": "code",
   "execution_count": null,
   "metadata": {},
   "outputs": [],
   "source": []
  },
  {
   "cell_type": "code",
   "execution_count": 2,
   "metadata": {},
   "outputs": [],
   "source": [
    "c = twint.Config()"
   ]
  },
  {
   "cell_type": "code",
   "execution_count": 3,
   "metadata": {},
   "outputs": [],
   "source": [
    "c.Username = \"realDonaldTrump\""
   ]
  },
  {
   "cell_type": "code",
   "execution_count": 65,
   "metadata": {},
   "outputs": [],
   "source": [
    "c.Limit = 1\n",
    "c.Pandas = True\n",
    "c.Store_csv = True\n",
    "c.Output = 'tweets.csv'\n",
    "c.Verified = True\n",
    "c.Format = \"Username: {username} |  Tweet: {tweet}\""
   ]
  },
  {
   "cell_type": "code",
   "execution_count": 68,
   "metadata": {},
   "outputs": [
    {
     "name": "stdout",
     "output_type": "stream",
     "text": [
      "Username: realDonaldTrump |  Tweet: As I predicted, Jay Powell and the Federal Reserve have allowed the Dollar to get so strong, especially relative to ALL other currencies, that our manufacturers are being negatively affected. Fed Rate too high. They are their own worst enemies, they don’t have a clue. Pathetic!\n",
      "Username: realDonaldTrump |  Tweet: ....the Whistleblower, and also the person who gave all of the false information to him. This is simply about a phone conversation that could not have been nicer, warmer, or better. No pressure at all (as confirmed by  Ukrainian Pres.). It is just another Democrat Hoax!\n",
      "Username: realDonaldTrump |  Tweet: So if the so-called “Whistleblower” has all second hand information, and almost everything he has said about my “perfect” call with the Ukrainian President is wrong (much to the embarrassment of Pelosi & Schiff), why aren’t we entitled to interview & learn everything about....\n",
      "Username: realDonaldTrump |  Tweet: “The congratulatory phone call with the Ukrainian President was PERFECT, unless you heard Liddle’ Adam Schiff’s fraudulently made up version of the call. This is just another Fake News Media, together with their partner, the Democrat Party, HOAX!\n",
      "Username: realDonaldTrump |  Tweet:  pic.twitter.com/dOta1Z9gtZ\n",
      "Username: realDonaldTrump |  Tweet: Congratulations to President Xi and the Chinese people on the 70th Anniversary of the People’s Republic of China!\n",
      "Username: realDonaldTrump |  Tweet: Great job, just in time! https://twitter.com/fox32news/status/1178827504301363205 …\n",
      "Username: realDonaldTrump |  Tweet: You cannot judge my Stock Market performance since the Inauguration, which was very good, but only from the day after the big Election Win, which was spectacular due to the euphoria of getting Obama/Biden OUT, & getting Trump/Pence IN. WentI up BIG between Nov. 9 & Inauguration!\n",
      "Username: realDonaldTrump |  Tweet: The Corrupt Media refuses to cover this! https://twitter.com/realdonaldtrump/status/1177669563477118976 …\n",
      "Username: realDonaldTrump |  Tweet: Today, I was proud to sign the Autism CARES Bill! We support research for Americans with Autism and their families. You are not forgotten, we are fighting for you! pic.twitter.com/syyaLR0sNq\n",
      "Username: realDonaldTrump |  Tweet:  pic.twitter.com/DJLYoma7KB\n",
      "Username: realDonaldTrump |  Tweet: THANK YOU! pic.twitter.com/zqbTTlbGmp\n",
      "Username: realDonaldTrump |  Tweet: “He misled (Rep. Adam Schiff) MILLIONS of people for the sake of making the case for impeachment. Completely fabricated account out of thin air!” @MillerStream @BlazeTV pic.twitter.com/ottBHQVffY\n",
      "Username: realDonaldTrump |  Tweet:  pic.twitter.com/QqEbiqEKkx\n",
      "Username: realDonaldTrump |  Tweet: My great friend, @RepMarkMeadows, has been an EXCELLENT Chairman of the House @FreedomCaucus, which has been a tremendous success. I am looking forward to close collaboration with his successor (starting Tuesday) and Strong Leader, @RepAndyBiggsAZ!\n",
      "Username: realDonaldTrump |  Tweet: BIG NEWS by @Hyundai, @Kia, and @Aptiv on a 4 BILLION DOLLAR joint venture to develop autonomous driving technologies in the USA. That’s a lot of $$ and JOBS! Great jobs coming back to America!!\n",
      "Username: realDonaldTrump |  Tweet: Great news! @Apple announced that it is building its new Mac Pro in Texas. This means hundreds of American jobs in Austin and for suppliers across the Country. Congratulations to the Apple team and their workers! https://www.foxbusiness.com/technology/apple-manufacturing-mac-pro-austin-texas-tariff-exemption …\n",
      "Username: realDonaldTrump |  Tweet: Navistar will be building a new 250 MILLION DOLLAR truck factory in San Antonio with 600 new jobs. Congratulations San Antonio and Texas! America makes the GREATEST trucks in the world! https://www.ttnews.com/articles/navistar-build-truck-plant-texas …\n",
      "Username: realDonaldTrump |  Tweet: It was my Great Honor to attend this mornings Welcome Ceremony for the 20th Chairman of the Joint Chiefs of Staff, General Mark Milley! https://www.pscp.tv/w/cGInjjFvTlFsTFJub1dwUXd8MW1yeG1yaldya0RLeRYnTwf76Ww-U2rvToHPCwV-0eVWKsWnfNDtCYU2FcyF?t=43s …\n",
      "Username: realDonaldTrump |  Tweet: The Fake News Media wants to stay as far away as possible from the Ukraine and China deals made by the Bidens. A Corrupt Media is so bad for our Country! In actuality, the Media may be even more Corrupt than the Bidens, which is hard to do!\n"
     ]
    }
   ],
   "source": [
    "twint.run.Search(c)"
   ]
  },
  {
   "cell_type": "code",
   "execution_count": 66,
   "metadata": {},
   "outputs": [],
   "source": [
    "def available_columns():\n",
    "    return twint.output.panda.Tweets_df.columns"
   ]
  },
  {
   "cell_type": "code",
   "execution_count": 67,
   "metadata": {},
   "outputs": [],
   "source": [
    "def twint_to_pandas(columns):\n",
    "    return twint.output.panda.Tweets_df[columns]"
   ]
  },
  {
   "cell_type": "code",
   "execution_count": 69,
   "metadata": {},
   "outputs": [
    {
     "data": {
      "text/plain": [
       "Index(['cashtags', 'conversation_id', 'created_at', 'date', 'day', 'geo',\n",
       "       'hashtags', 'hour', 'id', 'link', 'name', 'near', 'nlikes', 'nreplies',\n",
       "       'nretweets', 'place', 'quote_url', 'reply_to', 'retweet',\n",
       "       'retweet_date', 'retweet_id', 'search', 'source', 'timezone', 'tweet',\n",
       "       'user_id', 'user_id_str', 'user_rt', 'user_rt_id', 'username'],\n",
       "      dtype='object')"
      ]
     },
     "execution_count": 69,
     "metadata": {},
     "output_type": "execute_result"
    }
   ],
   "source": [
    "available_columns()"
   ]
  },
  {
   "cell_type": "code",
   "execution_count": 19,
   "metadata": {},
   "outputs": [
    {
     "data": {
      "text/plain": [
       "<function twint.storage.panda.save(_filename, _dataframe, **options)>"
      ]
     },
     "execution_count": 19,
     "metadata": {},
     "output_type": "execute_result"
    }
   ],
   "source": [
    "twint.output.panda.save"
   ]
  },
  {
   "cell_type": "code",
   "execution_count": 70,
   "metadata": {},
   "outputs": [],
   "source": [
    "df_pd = twint_to_pandas([\"date\", \"username\", \"tweet\", \"hashtags\", \"nlikes\"])"
   ]
  },
  {
   "cell_type": "code",
   "execution_count": 71,
   "metadata": {},
   "outputs": [
    {
     "data": {
      "text/html": [
       "<div>\n",
       "<style scoped>\n",
       "    .dataframe tbody tr th:only-of-type {\n",
       "        vertical-align: middle;\n",
       "    }\n",
       "\n",
       "    .dataframe tbody tr th {\n",
       "        vertical-align: top;\n",
       "    }\n",
       "\n",
       "    .dataframe thead th {\n",
       "        text-align: right;\n",
       "    }\n",
       "</style>\n",
       "<table border=\"1\" class=\"dataframe\">\n",
       "  <thead>\n",
       "    <tr style=\"text-align: right;\">\n",
       "      <th></th>\n",
       "      <th>date</th>\n",
       "      <th>username</th>\n",
       "      <th>tweet</th>\n",
       "      <th>hashtags</th>\n",
       "      <th>nlikes</th>\n",
       "    </tr>\n",
       "  </thead>\n",
       "  <tbody>\n",
       "    <tr>\n",
       "      <th>0</th>\n",
       "      <td>2019-10-01 10:34:45</td>\n",
       "      <td>realDonaldTrump</td>\n",
       "      <td>As I predicted, Jay Powell and the Federal Res...</td>\n",
       "      <td>[]</td>\n",
       "      <td>12139</td>\n",
       "    </tr>\n",
       "    <tr>\n",
       "      <th>1</th>\n",
       "      <td>2019-10-01 09:19:24</td>\n",
       "      <td>realDonaldTrump</td>\n",
       "      <td>....the Whistleblower, and also the person who...</td>\n",
       "      <td>[]</td>\n",
       "      <td>29147</td>\n",
       "    </tr>\n",
       "    <tr>\n",
       "      <th>2</th>\n",
       "      <td>2019-10-01 09:19:23</td>\n",
       "      <td>realDonaldTrump</td>\n",
       "      <td>So if the so-called “Whistleblower” has all se...</td>\n",
       "      <td>[]</td>\n",
       "      <td>32362</td>\n",
       "    </tr>\n",
       "    <tr>\n",
       "      <th>3</th>\n",
       "      <td>2019-10-01 07:09:57</td>\n",
       "      <td>realDonaldTrump</td>\n",
       "      <td>“The congratulatory phone call with the Ukrain...</td>\n",
       "      <td>[]</td>\n",
       "      <td>44331</td>\n",
       "    </tr>\n",
       "    <tr>\n",
       "      <th>4</th>\n",
       "      <td>2019-10-01 07:05:17</td>\n",
       "      <td>realDonaldTrump</td>\n",
       "      <td>pic.twitter.com/dOta1Z9gtZ</td>\n",
       "      <td>[]</td>\n",
       "      <td>78781</td>\n",
       "    </tr>\n",
       "  </tbody>\n",
       "</table>\n",
       "</div>"
      ],
      "text/plain": [
       "                  date         username  \\\n",
       "0  2019-10-01 10:34:45  realDonaldTrump   \n",
       "1  2019-10-01 09:19:24  realDonaldTrump   \n",
       "2  2019-10-01 09:19:23  realDonaldTrump   \n",
       "3  2019-10-01 07:09:57  realDonaldTrump   \n",
       "4  2019-10-01 07:05:17  realDonaldTrump   \n",
       "\n",
       "                                               tweet hashtags  nlikes  \n",
       "0  As I predicted, Jay Powell and the Federal Res...       []   12139  \n",
       "1  ....the Whistleblower, and also the person who...       []   29147  \n",
       "2  So if the so-called “Whistleblower” has all se...       []   32362  \n",
       "3  “The congratulatory phone call with the Ukrain...       []   44331  \n",
       "4                         pic.twitter.com/dOta1Z9gtZ       []   78781  "
      ]
     },
     "execution_count": 71,
     "metadata": {},
     "output_type": "execute_result"
    }
   ],
   "source": [
    "df_pd.head()"
   ]
  },
  {
   "cell_type": "code",
   "execution_count": 22,
   "metadata": {},
   "outputs": [],
   "source": [
    "df = pd.read_csv('tweets.csv')"
   ]
  },
  {
   "cell_type": "code",
   "execution_count": 26,
   "metadata": {},
   "outputs": [
    {
     "data": {
      "text/html": [
       "<div>\n",
       "<style scoped>\n",
       "    .dataframe tbody tr th:only-of-type {\n",
       "        vertical-align: middle;\n",
       "    }\n",
       "\n",
       "    .dataframe tbody tr th {\n",
       "        vertical-align: top;\n",
       "    }\n",
       "\n",
       "    .dataframe thead th {\n",
       "        text-align: right;\n",
       "    }\n",
       "</style>\n",
       "<table border=\"1\" class=\"dataframe\">\n",
       "  <thead>\n",
       "    <tr style=\"text-align: right;\">\n",
       "      <th></th>\n",
       "      <th>id</th>\n",
       "      <th>conversation_id</th>\n",
       "      <th>created_at</th>\n",
       "      <th>date</th>\n",
       "      <th>time</th>\n",
       "      <th>timezone</th>\n",
       "      <th>user_id</th>\n",
       "      <th>username</th>\n",
       "      <th>name</th>\n",
       "      <th>place</th>\n",
       "      <th>...</th>\n",
       "      <th>quote_url</th>\n",
       "      <th>video</th>\n",
       "      <th>near</th>\n",
       "      <th>geo</th>\n",
       "      <th>source</th>\n",
       "      <th>user_rt_id</th>\n",
       "      <th>user_rt</th>\n",
       "      <th>retweet_id</th>\n",
       "      <th>reply_to</th>\n",
       "      <th>retweet_date</th>\n",
       "    </tr>\n",
       "  </thead>\n",
       "  <tbody>\n",
       "    <tr>\n",
       "      <th>0</th>\n",
       "      <td>1178780049610280960</td>\n",
       "      <td>1178780049610280960</td>\n",
       "      <td>1569878039000</td>\n",
       "      <td>2019-09-30</td>\n",
       "      <td>17:13:59</td>\n",
       "      <td>EDT</td>\n",
       "      <td>25073877</td>\n",
       "      <td>realdonaldtrump</td>\n",
       "      <td>Donald J. Trump</td>\n",
       "      <td>NaN</td>\n",
       "      <td>...</td>\n",
       "      <td>NaN</td>\n",
       "      <td>1</td>\n",
       "      <td>NaN</td>\n",
       "      <td>NaN</td>\n",
       "      <td>NaN</td>\n",
       "      <td>NaN</td>\n",
       "      <td>NaN</td>\n",
       "      <td>NaN</td>\n",
       "      <td>[{'user_id': '25073877', 'username': 'realDona...</td>\n",
       "      <td>NaN</td>\n",
       "    </tr>\n",
       "    <tr>\n",
       "      <th>1</th>\n",
       "      <td>1178767417075552257</td>\n",
       "      <td>1178767417075552257</td>\n",
       "      <td>1569875027000</td>\n",
       "      <td>2019-09-30</td>\n",
       "      <td>16:23:47</td>\n",
       "      <td>EDT</td>\n",
       "      <td>25073877</td>\n",
       "      <td>realdonaldtrump</td>\n",
       "      <td>Donald J. Trump</td>\n",
       "      <td>NaN</td>\n",
       "      <td>...</td>\n",
       "      <td>NaN</td>\n",
       "      <td>1</td>\n",
       "      <td>NaN</td>\n",
       "      <td>NaN</td>\n",
       "      <td>NaN</td>\n",
       "      <td>NaN</td>\n",
       "      <td>NaN</td>\n",
       "      <td>NaN</td>\n",
       "      <td>[{'user_id': '25073877', 'username': 'realDona...</td>\n",
       "      <td>NaN</td>\n",
       "    </tr>\n",
       "    <tr>\n",
       "      <th>2</th>\n",
       "      <td>1178757901659365376</td>\n",
       "      <td>1178757901659365376</td>\n",
       "      <td>1569872758000</td>\n",
       "      <td>2019-09-30</td>\n",
       "      <td>15:45:58</td>\n",
       "      <td>EDT</td>\n",
       "      <td>25073877</td>\n",
       "      <td>realdonaldtrump</td>\n",
       "      <td>Donald J. Trump</td>\n",
       "      <td>NaN</td>\n",
       "      <td>...</td>\n",
       "      <td>NaN</td>\n",
       "      <td>0</td>\n",
       "      <td>NaN</td>\n",
       "      <td>NaN</td>\n",
       "      <td>NaN</td>\n",
       "      <td>NaN</td>\n",
       "      <td>NaN</td>\n",
       "      <td>NaN</td>\n",
       "      <td>[{'user_id': '25073877', 'username': 'realDona...</td>\n",
       "      <td>NaN</td>\n",
       "    </tr>\n",
       "    <tr>\n",
       "      <th>3</th>\n",
       "      <td>1178748369709256704</td>\n",
       "      <td>1178748369709256704</td>\n",
       "      <td>1569870486000</td>\n",
       "      <td>2019-09-30</td>\n",
       "      <td>15:08:06</td>\n",
       "      <td>EDT</td>\n",
       "      <td>25073877</td>\n",
       "      <td>realdonaldtrump</td>\n",
       "      <td>Donald J. Trump</td>\n",
       "      <td>NaN</td>\n",
       "      <td>...</td>\n",
       "      <td>NaN</td>\n",
       "      <td>0</td>\n",
       "      <td>NaN</td>\n",
       "      <td>NaN</td>\n",
       "      <td>NaN</td>\n",
       "      <td>NaN</td>\n",
       "      <td>NaN</td>\n",
       "      <td>NaN</td>\n",
       "      <td>[{'user_id': '25073877', 'username': 'realDona...</td>\n",
       "      <td>NaN</td>\n",
       "    </tr>\n",
       "    <tr>\n",
       "      <th>4</th>\n",
       "      <td>1178747450120708097</td>\n",
       "      <td>1178747450120708097</td>\n",
       "      <td>1569870266000</td>\n",
       "      <td>2019-09-30</td>\n",
       "      <td>15:04:26</td>\n",
       "      <td>EDT</td>\n",
       "      <td>25073877</td>\n",
       "      <td>realdonaldtrump</td>\n",
       "      <td>Donald J. Trump</td>\n",
       "      <td>NaN</td>\n",
       "      <td>...</td>\n",
       "      <td>NaN</td>\n",
       "      <td>0</td>\n",
       "      <td>NaN</td>\n",
       "      <td>NaN</td>\n",
       "      <td>NaN</td>\n",
       "      <td>NaN</td>\n",
       "      <td>NaN</td>\n",
       "      <td>NaN</td>\n",
       "      <td>[{'user_id': '25073877', 'username': 'realDona...</td>\n",
       "      <td>NaN</td>\n",
       "    </tr>\n",
       "  </tbody>\n",
       "</table>\n",
       "<p>5 rows × 31 columns</p>\n",
       "</div>"
      ],
      "text/plain": [
       "                    id      conversation_id     created_at        date  \\\n",
       "0  1178780049610280960  1178780049610280960  1569878039000  2019-09-30   \n",
       "1  1178767417075552257  1178767417075552257  1569875027000  2019-09-30   \n",
       "2  1178757901659365376  1178757901659365376  1569872758000  2019-09-30   \n",
       "3  1178748369709256704  1178748369709256704  1569870486000  2019-09-30   \n",
       "4  1178747450120708097  1178747450120708097  1569870266000  2019-09-30   \n",
       "\n",
       "       time timezone   user_id         username             name  place  \\\n",
       "0  17:13:59      EDT  25073877  realdonaldtrump  Donald J. Trump    NaN   \n",
       "1  16:23:47      EDT  25073877  realdonaldtrump  Donald J. Trump    NaN   \n",
       "2  15:45:58      EDT  25073877  realdonaldtrump  Donald J. Trump    NaN   \n",
       "3  15:08:06      EDT  25073877  realdonaldtrump  Donald J. Trump    NaN   \n",
       "4  15:04:26      EDT  25073877  realdonaldtrump  Donald J. Trump    NaN   \n",
       "\n",
       "      ...      quote_url video near geo  source  user_rt_id  user_rt  \\\n",
       "0     ...            NaN     1  NaN NaN     NaN         NaN      NaN   \n",
       "1     ...            NaN     1  NaN NaN     NaN         NaN      NaN   \n",
       "2     ...            NaN     0  NaN NaN     NaN         NaN      NaN   \n",
       "3     ...            NaN     0  NaN NaN     NaN         NaN      NaN   \n",
       "4     ...            NaN     0  NaN NaN     NaN         NaN      NaN   \n",
       "\n",
       "  retweet_id                                           reply_to retweet_date  \n",
       "0        NaN  [{'user_id': '25073877', 'username': 'realDona...          NaN  \n",
       "1        NaN  [{'user_id': '25073877', 'username': 'realDona...          NaN  \n",
       "2        NaN  [{'user_id': '25073877', 'username': 'realDona...          NaN  \n",
       "3        NaN  [{'user_id': '25073877', 'username': 'realDona...          NaN  \n",
       "4        NaN  [{'user_id': '25073877', 'username': 'realDona...          NaN  \n",
       "\n",
       "[5 rows x 31 columns]"
      ]
     },
     "execution_count": 26,
     "metadata": {},
     "output_type": "execute_result"
    }
   ],
   "source": [
    "df.head()"
   ]
  },
  {
   "cell_type": "code",
   "execution_count": 25,
   "metadata": {},
   "outputs": [
    {
     "data": {
      "text/plain": [
       "0     “He misled (Rep. Adam Schiff) MILLIONS of peop...\n",
       "1                            pic.twitter.com/QqEbiqEKkx\n",
       "2     My great friend, @RepMarkMeadows, has been an ...\n",
       "3     BIG NEWS by @Hyundai, @Kia, and @Aptiv on a 4 ...\n",
       "4     Great news! @Apple announced that it is buildi...\n",
       "5     Navistar will be building a new 250 MILLION DO...\n",
       "6     It was my Great Honor to attend this mornings ...\n",
       "7     The Fake News Media wants to stay as far away ...\n",
       "8     Very simple! I was looking for Corruption and ...\n",
       "9     ....they made this whole thing up. Impeachment...\n",
       "10    “President Trump’s Job Approval Numbers have j...\n",
       "11                                   #FakeWhistleblower\n",
       "12    WHO CHANGED THE LONG STANDING WHISTLEBLOWER RU...\n",
       "13    Again, the President of Ukraine said there was...\n",
       "14    ....place in TRADE, it’s taking shape in Milit...\n",
       "15    “After many years, the United States is finall...\n",
       "16    Rep. Adam Schiff illegally made up a FAKE & te...\n",
       "17    The Fake Whistleblower complaint is not holdin...\n",
       "18    “China Trade Turmoil: China Urging a CALM AND ...\n",
       "19    The Greatest Witch Hunt in the history of our ...\n",
       "Name: tweet, dtype: object"
      ]
     },
     "execution_count": 25,
     "metadata": {},
     "output_type": "execute_result"
    }
   ],
   "source": [
    "df['tweet']"
   ]
  },
  {
   "cell_type": "code",
   "execution_count": 27,
   "metadata": {},
   "outputs": [
    {
     "data": {
      "text/html": [
       "<div>\n",
       "<style scoped>\n",
       "    .dataframe tbody tr th:only-of-type {\n",
       "        vertical-align: middle;\n",
       "    }\n",
       "\n",
       "    .dataframe tbody tr th {\n",
       "        vertical-align: top;\n",
       "    }\n",
       "\n",
       "    .dataframe thead th {\n",
       "        text-align: right;\n",
       "    }\n",
       "</style>\n",
       "<table border=\"1\" class=\"dataframe\">\n",
       "  <thead>\n",
       "    <tr style=\"text-align: right;\">\n",
       "      <th></th>\n",
       "      <th>id</th>\n",
       "      <th>conversation_id</th>\n",
       "      <th>created_at</th>\n",
       "      <th>date</th>\n",
       "      <th>time</th>\n",
       "      <th>timezone</th>\n",
       "      <th>user_id</th>\n",
       "      <th>username</th>\n",
       "      <th>name</th>\n",
       "      <th>place</th>\n",
       "      <th>...</th>\n",
       "      <th>quote_url</th>\n",
       "      <th>video</th>\n",
       "      <th>near</th>\n",
       "      <th>geo</th>\n",
       "      <th>source</th>\n",
       "      <th>user_rt_id</th>\n",
       "      <th>user_rt</th>\n",
       "      <th>retweet_id</th>\n",
       "      <th>reply_to</th>\n",
       "      <th>retweet_date</th>\n",
       "    </tr>\n",
       "  </thead>\n",
       "  <tbody>\n",
       "    <tr>\n",
       "      <th>0</th>\n",
       "      <td>1178780049610280960</td>\n",
       "      <td>1178780049610280960</td>\n",
       "      <td>1569878039000</td>\n",
       "      <td>2019-09-30</td>\n",
       "      <td>17:13:59</td>\n",
       "      <td>EDT</td>\n",
       "      <td>25073877</td>\n",
       "      <td>realdonaldtrump</td>\n",
       "      <td>Donald J. Trump</td>\n",
       "      <td>NaN</td>\n",
       "      <td>...</td>\n",
       "      <td>NaN</td>\n",
       "      <td>1</td>\n",
       "      <td>NaN</td>\n",
       "      <td>NaN</td>\n",
       "      <td>NaN</td>\n",
       "      <td>NaN</td>\n",
       "      <td>NaN</td>\n",
       "      <td>NaN</td>\n",
       "      <td>[{'user_id': '25073877', 'username': 'realDona...</td>\n",
       "      <td>NaN</td>\n",
       "    </tr>\n",
       "    <tr>\n",
       "      <th>1</th>\n",
       "      <td>1178767417075552257</td>\n",
       "      <td>1178767417075552257</td>\n",
       "      <td>1569875027000</td>\n",
       "      <td>2019-09-30</td>\n",
       "      <td>16:23:47</td>\n",
       "      <td>EDT</td>\n",
       "      <td>25073877</td>\n",
       "      <td>realdonaldtrump</td>\n",
       "      <td>Donald J. Trump</td>\n",
       "      <td>NaN</td>\n",
       "      <td>...</td>\n",
       "      <td>NaN</td>\n",
       "      <td>1</td>\n",
       "      <td>NaN</td>\n",
       "      <td>NaN</td>\n",
       "      <td>NaN</td>\n",
       "      <td>NaN</td>\n",
       "      <td>NaN</td>\n",
       "      <td>NaN</td>\n",
       "      <td>[{'user_id': '25073877', 'username': 'realDona...</td>\n",
       "      <td>NaN</td>\n",
       "    </tr>\n",
       "    <tr>\n",
       "      <th>2</th>\n",
       "      <td>1178757901659365376</td>\n",
       "      <td>1178757901659365376</td>\n",
       "      <td>1569872758000</td>\n",
       "      <td>2019-09-30</td>\n",
       "      <td>15:45:58</td>\n",
       "      <td>EDT</td>\n",
       "      <td>25073877</td>\n",
       "      <td>realdonaldtrump</td>\n",
       "      <td>Donald J. Trump</td>\n",
       "      <td>NaN</td>\n",
       "      <td>...</td>\n",
       "      <td>NaN</td>\n",
       "      <td>0</td>\n",
       "      <td>NaN</td>\n",
       "      <td>NaN</td>\n",
       "      <td>NaN</td>\n",
       "      <td>NaN</td>\n",
       "      <td>NaN</td>\n",
       "      <td>NaN</td>\n",
       "      <td>[{'user_id': '25073877', 'username': 'realDona...</td>\n",
       "      <td>NaN</td>\n",
       "    </tr>\n",
       "    <tr>\n",
       "      <th>3</th>\n",
       "      <td>1178748369709256704</td>\n",
       "      <td>1178748369709256704</td>\n",
       "      <td>1569870486000</td>\n",
       "      <td>2019-09-30</td>\n",
       "      <td>15:08:06</td>\n",
       "      <td>EDT</td>\n",
       "      <td>25073877</td>\n",
       "      <td>realdonaldtrump</td>\n",
       "      <td>Donald J. Trump</td>\n",
       "      <td>NaN</td>\n",
       "      <td>...</td>\n",
       "      <td>NaN</td>\n",
       "      <td>0</td>\n",
       "      <td>NaN</td>\n",
       "      <td>NaN</td>\n",
       "      <td>NaN</td>\n",
       "      <td>NaN</td>\n",
       "      <td>NaN</td>\n",
       "      <td>NaN</td>\n",
       "      <td>[{'user_id': '25073877', 'username': 'realDona...</td>\n",
       "      <td>NaN</td>\n",
       "    </tr>\n",
       "    <tr>\n",
       "      <th>4</th>\n",
       "      <td>1178747450120708097</td>\n",
       "      <td>1178747450120708097</td>\n",
       "      <td>1569870266000</td>\n",
       "      <td>2019-09-30</td>\n",
       "      <td>15:04:26</td>\n",
       "      <td>EDT</td>\n",
       "      <td>25073877</td>\n",
       "      <td>realdonaldtrump</td>\n",
       "      <td>Donald J. Trump</td>\n",
       "      <td>NaN</td>\n",
       "      <td>...</td>\n",
       "      <td>NaN</td>\n",
       "      <td>0</td>\n",
       "      <td>NaN</td>\n",
       "      <td>NaN</td>\n",
       "      <td>NaN</td>\n",
       "      <td>NaN</td>\n",
       "      <td>NaN</td>\n",
       "      <td>NaN</td>\n",
       "      <td>[{'user_id': '25073877', 'username': 'realDona...</td>\n",
       "      <td>NaN</td>\n",
       "    </tr>\n",
       "  </tbody>\n",
       "</table>\n",
       "<p>5 rows × 31 columns</p>\n",
       "</div>"
      ],
      "text/plain": [
       "                    id      conversation_id     created_at        date  \\\n",
       "0  1178780049610280960  1178780049610280960  1569878039000  2019-09-30   \n",
       "1  1178767417075552257  1178767417075552257  1569875027000  2019-09-30   \n",
       "2  1178757901659365376  1178757901659365376  1569872758000  2019-09-30   \n",
       "3  1178748369709256704  1178748369709256704  1569870486000  2019-09-30   \n",
       "4  1178747450120708097  1178747450120708097  1569870266000  2019-09-30   \n",
       "\n",
       "       time timezone   user_id         username             name  place  \\\n",
       "0  17:13:59      EDT  25073877  realdonaldtrump  Donald J. Trump    NaN   \n",
       "1  16:23:47      EDT  25073877  realdonaldtrump  Donald J. Trump    NaN   \n",
       "2  15:45:58      EDT  25073877  realdonaldtrump  Donald J. Trump    NaN   \n",
       "3  15:08:06      EDT  25073877  realdonaldtrump  Donald J. Trump    NaN   \n",
       "4  15:04:26      EDT  25073877  realdonaldtrump  Donald J. Trump    NaN   \n",
       "\n",
       "      ...      quote_url video near geo  source  user_rt_id  user_rt  \\\n",
       "0     ...            NaN     1  NaN NaN     NaN         NaN      NaN   \n",
       "1     ...            NaN     1  NaN NaN     NaN         NaN      NaN   \n",
       "2     ...            NaN     0  NaN NaN     NaN         NaN      NaN   \n",
       "3     ...            NaN     0  NaN NaN     NaN         NaN      NaN   \n",
       "4     ...            NaN     0  NaN NaN     NaN         NaN      NaN   \n",
       "\n",
       "  retweet_id                                           reply_to retweet_date  \n",
       "0        NaN  [{'user_id': '25073877', 'username': 'realDona...          NaN  \n",
       "1        NaN  [{'user_id': '25073877', 'username': 'realDona...          NaN  \n",
       "2        NaN  [{'user_id': '25073877', 'username': 'realDona...          NaN  \n",
       "3        NaN  [{'user_id': '25073877', 'username': 'realDona...          NaN  \n",
       "4        NaN  [{'user_id': '25073877', 'username': 'realDona...          NaN  \n",
       "\n",
       "[5 rows x 31 columns]"
      ]
     },
     "execution_count": 27,
     "metadata": {},
     "output_type": "execute_result"
    }
   ],
   "source": [
    "df.head()"
   ]
  },
  {
   "cell_type": "code",
   "execution_count": 35,
   "metadata": {},
   "outputs": [
    {
     "data": {
      "text/plain": [
       "'“He misled (Rep. Adam Schiff) MILLIONS of people for the sake of making the case for impeachment. Completely fabricated account out of thin air!” @MillerStream @BlazeTV pic.twitter.com/ottBHQVffY'"
      ]
     },
     "execution_count": 35,
     "metadata": {},
     "output_type": "execute_result"
    }
   ],
   "source": [
    "df.iloc[0].tweet"
   ]
  },
  {
   "cell_type": "code",
   "execution_count": 38,
   "metadata": {},
   "outputs": [],
   "source": [
    "text = df.iloc[0].tweet"
   ]
  },
  {
   "cell_type": "code",
   "execution_count": 40,
   "metadata": {},
   "outputs": [],
   "source": [
    "stopwords_list = stopwords.words('english')\n",
    "stopwords_list += list(string.punctuation)"
   ]
  },
  {
   "cell_type": "code",
   "execution_count": 72,
   "metadata": {},
   "outputs": [
    {
     "data": {
      "text/plain": [
       "['i',\n",
       " 'me',\n",
       " 'my',\n",
       " 'myself',\n",
       " 'we',\n",
       " 'our',\n",
       " 'ours',\n",
       " 'ourselves',\n",
       " 'you',\n",
       " \"you're\",\n",
       " \"you've\",\n",
       " \"you'll\",\n",
       " \"you'd\",\n",
       " 'your',\n",
       " 'yours',\n",
       " 'yourself',\n",
       " 'yourselves',\n",
       " 'he',\n",
       " 'him',\n",
       " 'his',\n",
       " 'himself',\n",
       " 'she',\n",
       " \"she's\",\n",
       " 'her',\n",
       " 'hers',\n",
       " 'herself',\n",
       " 'it',\n",
       " \"it's\",\n",
       " 'its',\n",
       " 'itself',\n",
       " 'they',\n",
       " 'them',\n",
       " 'their',\n",
       " 'theirs',\n",
       " 'themselves',\n",
       " 'what',\n",
       " 'which',\n",
       " 'who',\n",
       " 'whom',\n",
       " 'this',\n",
       " 'that',\n",
       " \"that'll\",\n",
       " 'these',\n",
       " 'those',\n",
       " 'am',\n",
       " 'is',\n",
       " 'are',\n",
       " 'was',\n",
       " 'were',\n",
       " 'be',\n",
       " 'been',\n",
       " 'being',\n",
       " 'have',\n",
       " 'has',\n",
       " 'had',\n",
       " 'having',\n",
       " 'do',\n",
       " 'does',\n",
       " 'did',\n",
       " 'doing',\n",
       " 'a',\n",
       " 'an',\n",
       " 'the',\n",
       " 'and',\n",
       " 'but',\n",
       " 'if',\n",
       " 'or',\n",
       " 'because',\n",
       " 'as',\n",
       " 'until',\n",
       " 'while',\n",
       " 'of',\n",
       " 'at',\n",
       " 'by',\n",
       " 'for',\n",
       " 'with',\n",
       " 'about',\n",
       " 'against',\n",
       " 'between',\n",
       " 'into',\n",
       " 'through',\n",
       " 'during',\n",
       " 'before',\n",
       " 'after',\n",
       " 'above',\n",
       " 'below',\n",
       " 'to',\n",
       " 'from',\n",
       " 'up',\n",
       " 'down',\n",
       " 'in',\n",
       " 'out',\n",
       " 'on',\n",
       " 'off',\n",
       " 'over',\n",
       " 'under',\n",
       " 'again',\n",
       " 'further',\n",
       " 'then',\n",
       " 'once',\n",
       " 'here',\n",
       " 'there',\n",
       " 'when',\n",
       " 'where',\n",
       " 'why',\n",
       " 'how',\n",
       " 'all',\n",
       " 'any',\n",
       " 'both',\n",
       " 'each',\n",
       " 'few',\n",
       " 'more',\n",
       " 'most',\n",
       " 'other',\n",
       " 'some',\n",
       " 'such',\n",
       " 'no',\n",
       " 'nor',\n",
       " 'not',\n",
       " 'only',\n",
       " 'own',\n",
       " 'same',\n",
       " 'so',\n",
       " 'than',\n",
       " 'too',\n",
       " 'very',\n",
       " 's',\n",
       " 't',\n",
       " 'can',\n",
       " 'will',\n",
       " 'just',\n",
       " 'don',\n",
       " \"don't\",\n",
       " 'should',\n",
       " \"should've\",\n",
       " 'now',\n",
       " 'd',\n",
       " 'll',\n",
       " 'm',\n",
       " 'o',\n",
       " 're',\n",
       " 've',\n",
       " 'y',\n",
       " 'ain',\n",
       " 'aren',\n",
       " \"aren't\",\n",
       " 'couldn',\n",
       " \"couldn't\",\n",
       " 'didn',\n",
       " \"didn't\",\n",
       " 'doesn',\n",
       " \"doesn't\",\n",
       " 'hadn',\n",
       " \"hadn't\",\n",
       " 'hasn',\n",
       " \"hasn't\",\n",
       " 'haven',\n",
       " \"haven't\",\n",
       " 'isn',\n",
       " \"isn't\",\n",
       " 'ma',\n",
       " 'mightn',\n",
       " \"mightn't\",\n",
       " 'mustn',\n",
       " \"mustn't\",\n",
       " 'needn',\n",
       " \"needn't\",\n",
       " 'shan',\n",
       " \"shan't\",\n",
       " 'shouldn',\n",
       " \"shouldn't\",\n",
       " 'wasn',\n",
       " \"wasn't\",\n",
       " 'weren',\n",
       " \"weren't\",\n",
       " 'won',\n",
       " \"won't\",\n",
       " 'wouldn',\n",
       " \"wouldn't\",\n",
       " '!',\n",
       " '\"',\n",
       " '#',\n",
       " '$',\n",
       " '%',\n",
       " '&',\n",
       " \"'\",\n",
       " '(',\n",
       " ')',\n",
       " '*',\n",
       " '+',\n",
       " ',',\n",
       " '-',\n",
       " '.',\n",
       " '/',\n",
       " ':',\n",
       " ';',\n",
       " '<',\n",
       " '=',\n",
       " '>',\n",
       " '?',\n",
       " '@',\n",
       " '[',\n",
       " '\\\\',\n",
       " ']',\n",
       " '^',\n",
       " '_',\n",
       " '`',\n",
       " '{',\n",
       " '|',\n",
       " '}',\n",
       " '~']"
      ]
     },
     "execution_count": 72,
     "metadata": {},
     "output_type": "execute_result"
    }
   ],
   "source": [
    "stopwords_list"
   ]
  },
  {
   "cell_type": "code",
   "execution_count": null,
   "metadata": {},
   "outputs": [],
   "source": []
  },
  {
   "cell_type": "code",
   "execution_count": 41,
   "metadata": {},
   "outputs": [],
   "source": [
    "tokens = word_tokenize(text)"
   ]
  },
  {
   "cell_type": "code",
   "execution_count": 42,
   "metadata": {},
   "outputs": [
    {
     "data": {
      "text/plain": [
       "['“',\n",
       " 'He',\n",
       " 'misled',\n",
       " '(',\n",
       " 'Rep.',\n",
       " 'Adam',\n",
       " 'Schiff',\n",
       " ')',\n",
       " 'MILLIONS',\n",
       " 'of',\n",
       " 'people',\n",
       " 'for',\n",
       " 'the',\n",
       " 'sake',\n",
       " 'of',\n",
       " 'making',\n",
       " 'the',\n",
       " 'case',\n",
       " 'for',\n",
       " 'impeachment',\n",
       " '.',\n",
       " 'Completely',\n",
       " 'fabricated',\n",
       " 'account',\n",
       " 'out',\n",
       " 'of',\n",
       " 'thin',\n",
       " 'air',\n",
       " '!',\n",
       " '”',\n",
       " '@',\n",
       " 'MillerStream',\n",
       " '@',\n",
       " 'BlazeTV',\n",
       " 'pic.twitter.com/ottBHQVffY']"
      ]
     },
     "execution_count": 42,
     "metadata": {},
     "output_type": "execute_result"
    }
   ],
   "source": [
    "tokens"
   ]
  },
  {
   "cell_type": "code",
   "execution_count": 45,
   "metadata": {},
   "outputs": [],
   "source": [
    "stopped_tokens = [tok.lower() for tok in tokens if tok not in stopwords_list]"
   ]
  },
  {
   "cell_type": "code",
   "execution_count": 46,
   "metadata": {},
   "outputs": [
    {
     "data": {
      "text/plain": [
       "['“',\n",
       " 'he',\n",
       " 'misled',\n",
       " 'rep.',\n",
       " 'adam',\n",
       " 'schiff',\n",
       " 'millions',\n",
       " 'people',\n",
       " 'sake',\n",
       " 'making',\n",
       " 'case',\n",
       " 'impeachment',\n",
       " 'completely',\n",
       " 'fabricated',\n",
       " 'account',\n",
       " 'thin',\n",
       " 'air',\n",
       " '”',\n",
       " 'millerstream',\n",
       " 'blazetv',\n",
       " 'pic.twitter.com/ottbhqvffy']"
      ]
     },
     "execution_count": 46,
     "metadata": {},
     "output_type": "execute_result"
    }
   ],
   "source": [
    "stopped_tokens"
   ]
  },
  {
   "cell_type": "code",
   "execution_count": 47,
   "metadata": {},
   "outputs": [
    {
     "data": {
      "text/plain": [
       "'!\"#$%&\\'()*+,-./:;<=>?@[\\\\]^_`{|}~'"
      ]
     },
     "execution_count": 47,
     "metadata": {},
     "output_type": "execute_result"
    }
   ],
   "source": [
    "string.punctuation"
   ]
  },
  {
   "cell_type": "code",
   "execution_count": 49,
   "metadata": {},
   "outputs": [],
   "source": [
    "freqdist = FreqDist(tokens)"
   ]
  },
  {
   "cell_type": "code",
   "execution_count": 50,
   "metadata": {},
   "outputs": [
    {
     "data": {
      "text/plain": [
       "FreqDist({'of': 3, 'for': 2, 'the': 2, '@': 2, '“': 1, 'He': 1, 'misled': 1, '(': 1, 'Rep.': 1, 'Adam': 1, ...})"
      ]
     },
     "execution_count": 50,
     "metadata": {},
     "output_type": "execute_result"
    }
   ],
   "source": [
    "freqdist"
   ]
  },
  {
   "cell_type": "code",
   "execution_count": 51,
   "metadata": {},
   "outputs": [
    {
     "data": {
      "text/plain": [
       "[('of', 3),\n",
       " ('for', 2),\n",
       " ('the', 2),\n",
       " ('@', 2),\n",
       " ('“', 1),\n",
       " ('He', 1),\n",
       " ('misled', 1),\n",
       " ('(', 1),\n",
       " ('Rep.', 1),\n",
       " ('Adam', 1),\n",
       " ('Schiff', 1),\n",
       " (')', 1),\n",
       " ('MILLIONS', 1),\n",
       " ('people', 1),\n",
       " ('sake', 1),\n",
       " ('making', 1),\n",
       " ('case', 1),\n",
       " ('impeachment', 1),\n",
       " ('.', 1),\n",
       " ('Completely', 1),\n",
       " ('fabricated', 1),\n",
       " ('account', 1),\n",
       " ('out', 1),\n",
       " ('thin', 1),\n",
       " ('air', 1),\n",
       " ('!', 1),\n",
       " ('”', 1),\n",
       " ('MillerStream', 1),\n",
       " ('BlazeTV', 1),\n",
       " ('pic.twitter.com/ottBHQVffY', 1)]"
      ]
     },
     "execution_count": 51,
     "metadata": {},
     "output_type": "execute_result"
    }
   ],
   "source": [
    "freqdist.most_common()"
   ]
  },
  {
   "cell_type": "code",
   "execution_count": 53,
   "metadata": {},
   "outputs": [],
   "source": [
    "lemmatizer = WordNetLemmatizer()"
   ]
  },
  {
   "cell_type": "code",
   "execution_count": 54,
   "metadata": {},
   "outputs": [
    {
     "data": {
      "text/plain": [
       "'“He misled (Rep. Adam Schiff) MILLIONS of people for the sake of making the case for impeachment. Completely fabricated account out of thin air!” @MillerStream @BlazeTV pic.twitter.com/ottBHQVffY'"
      ]
     },
     "execution_count": 54,
     "metadata": {},
     "output_type": "execute_result"
    }
   ],
   "source": [
    "lemmatizer.lemmatize(text)"
   ]
  },
  {
   "cell_type": "code",
   "execution_count": 59,
   "metadata": {},
   "outputs": [
    {
     "data": {
      "text/plain": [
       "'agreed'"
      ]
     },
     "execution_count": 59,
     "metadata": {},
     "output_type": "execute_result"
    }
   ],
   "source": [
    "lemmatizer.lemmatize('agreed')"
   ]
  },
  {
   "cell_type": "code",
   "execution_count": 61,
   "metadata": {},
   "outputs": [],
   "source": [
    "stemmer = PorterStemmer()"
   ]
  },
  {
   "cell_type": "code",
   "execution_count": 63,
   "metadata": {},
   "outputs": [
    {
     "data": {
      "text/plain": [
       "'run'"
      ]
     },
     "execution_count": 63,
     "metadata": {},
     "output_type": "execute_result"
    }
   ],
   "source": [
    "stemmer.stem('running')"
   ]
  },
  {
   "cell_type": "code",
   "execution_count": null,
   "metadata": {},
   "outputs": [],
   "source": []
  },
  {
   "cell_type": "code",
   "execution_count": null,
   "metadata": {},
   "outputs": [],
   "source": []
  }
 ],
 "metadata": {
  "kernelspec": {
   "display_name": "Python [conda env:learn-env] *",
   "language": "python",
   "name": "conda-env-learn-env-py"
  },
  "language_info": {
   "codemirror_mode": {
    "name": "ipython",
    "version": 3
   },
   "file_extension": ".py",
   "mimetype": "text/x-python",
   "name": "python",
   "nbconvert_exporter": "python",
   "pygments_lexer": "ipython3",
   "version": "3.7.0"
  }
 },
 "nbformat": 4,
 "nbformat_minor": 2
}
